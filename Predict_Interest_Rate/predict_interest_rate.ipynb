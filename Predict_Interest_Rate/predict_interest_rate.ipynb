{
 "cells": [
  {
   "cell_type": "code",
   "execution_count": 117,
   "metadata": {},
   "outputs": [],
   "source": [
    "import pandas as pd\n",
    "import matplotlib as plt\n",
    "%matplotlib inline\n",
    "from sklearn.preprocessing import LabelEncoder\n",
    "from sklearn.cross_validation import train_test_split\n",
    "from sklearn.ensemble import GradientBoostingRegressor\n",
    "from sklearn.grid_search import GridSearchCV\n",
    "from sklearn.learning_curve import learning_curve"
   ]
  },
  {
   "cell_type": "code",
   "execution_count": 95,
   "metadata": {},
   "outputs": [
    {
     "data": {
      "text/html": [
       "<div>\n",
       "<style scoped>\n",
       "    .dataframe tbody tr th:only-of-type {\n",
       "        vertical-align: middle;\n",
       "    }\n",
       "\n",
       "    .dataframe tbody tr th {\n",
       "        vertical-align: top;\n",
       "    }\n",
       "\n",
       "    .dataframe thead th {\n",
       "        text-align: right;\n",
       "    }\n",
       "</style>\n",
       "<table border=\"1\" class=\"dataframe\">\n",
       "  <thead>\n",
       "    <tr style=\"text-align: right;\">\n",
       "      <th></th>\n",
       "      <th>ID</th>\n",
       "      <th>Amt Requested</th>\n",
       "      <th>Amt Funded</th>\n",
       "      <th>Length</th>\n",
       "      <th>Monthly Pmt</th>\n",
       "      <th>Pmts to Date</th>\n",
       "      <th>State</th>\n",
       "      <th>Income</th>\n",
       "      <th>Open LoC</th>\n",
       "      <th>Total LoC</th>\n",
       "      <th>...</th>\n",
       "      <th>FICO</th>\n",
       "      <th>Home</th>\n",
       "      <th>Utilization</th>\n",
       "      <th>Rate</th>\n",
       "      <th>D/I</th>\n",
       "      <th>Standing</th>\n",
       "      <th>Balance</th>\n",
       "      <th>Delinquent</th>\n",
       "      <th>Months</th>\n",
       "      <th>Train/Valid/Test</th>\n",
       "    </tr>\n",
       "  </thead>\n",
       "  <tbody>\n",
       "    <tr>\n",
       "      <th>0</th>\n",
       "      <td>1</td>\n",
       "      <td>3300</td>\n",
       "      <td>3300.0</td>\n",
       "      <td>36 months</td>\n",
       "      <td>111.29</td>\n",
       "      <td>1110.10</td>\n",
       "      <td>KY</td>\n",
       "      <td>1700.00</td>\n",
       "      <td>6</td>\n",
       "      <td>15</td>\n",
       "      <td>...</td>\n",
       "      <td>670.0</td>\n",
       "      <td>Mortgage</td>\n",
       "      <td>8.70%</td>\n",
       "      <td>13.06%</td>\n",
       "      <td>6.59%</td>\n",
       "      <td>Currently paying</td>\n",
       "      <td>624</td>\n",
       "      <td>1</td>\n",
       "      <td>6.0</td>\n",
       "      <td>Training</td>\n",
       "    </tr>\n",
       "    <tr>\n",
       "      <th>1</th>\n",
       "      <td>2</td>\n",
       "      <td>4800</td>\n",
       "      <td>4800.0</td>\n",
       "      <td>36 months</td>\n",
       "      <td>157.13</td>\n",
       "      <td>1095.99</td>\n",
       "      <td>CO</td>\n",
       "      <td>1650.00</td>\n",
       "      <td>3</td>\n",
       "      <td>12</td>\n",
       "      <td>...</td>\n",
       "      <td>733.0</td>\n",
       "      <td>Rent</td>\n",
       "      <td>0.00%</td>\n",
       "      <td>10.99%</td>\n",
       "      <td>23.70%</td>\n",
       "      <td>Currently paying</td>\n",
       "      <td>0</td>\n",
       "      <td>0</td>\n",
       "      <td>NaN</td>\n",
       "      <td>Training</td>\n",
       "    </tr>\n",
       "    <tr>\n",
       "      <th>2</th>\n",
       "      <td>3</td>\n",
       "      <td>8700</td>\n",
       "      <td>8700.0</td>\n",
       "      <td>36 months</td>\n",
       "      <td>272.15</td>\n",
       "      <td>5432.20</td>\n",
       "      <td>FL</td>\n",
       "      <td>5416.67</td>\n",
       "      <td>11</td>\n",
       "      <td>20</td>\n",
       "      <td>...</td>\n",
       "      <td>733.0</td>\n",
       "      <td>Own</td>\n",
       "      <td>31.10%</td>\n",
       "      <td>7.88%</td>\n",
       "      <td>13.38%</td>\n",
       "      <td>Currently paying</td>\n",
       "      <td>8568</td>\n",
       "      <td>0</td>\n",
       "      <td>NaN</td>\n",
       "      <td>Test</td>\n",
       "    </tr>\n",
       "    <tr>\n",
       "      <th>3</th>\n",
       "      <td>4</td>\n",
       "      <td>12300</td>\n",
       "      <td>1325.0</td>\n",
       "      <td>36 months</td>\n",
       "      <td>417.25</td>\n",
       "      <td>13535.28</td>\n",
       "      <td>CA</td>\n",
       "      <td>2667.00</td>\n",
       "      <td>15</td>\n",
       "      <td>22</td>\n",
       "      <td>...</td>\n",
       "      <td>698.0</td>\n",
       "      <td>Rent</td>\n",
       "      <td>29.10%</td>\n",
       "      <td>13.47%</td>\n",
       "      <td>22.08%</td>\n",
       "      <td>Paid</td>\n",
       "      <td>10543</td>\n",
       "      <td>0</td>\n",
       "      <td>NaN</td>\n",
       "      <td>Training</td>\n",
       "    </tr>\n",
       "    <tr>\n",
       "      <th>4</th>\n",
       "      <td>5</td>\n",
       "      <td>11200</td>\n",
       "      <td>11200.0</td>\n",
       "      <td>36 months</td>\n",
       "      <td>343.89</td>\n",
       "      <td>1030.65</td>\n",
       "      <td>NY</td>\n",
       "      <td>4333.33</td>\n",
       "      <td>13</td>\n",
       "      <td>26</td>\n",
       "      <td>...</td>\n",
       "      <td>733.0</td>\n",
       "      <td>Rent</td>\n",
       "      <td>57.00%</td>\n",
       "      <td>6.62%</td>\n",
       "      <td>11.38%</td>\n",
       "      <td>Currently paying</td>\n",
       "      <td>21379</td>\n",
       "      <td>0</td>\n",
       "      <td>NaN</td>\n",
       "      <td>Validation</td>\n",
       "    </tr>\n",
       "  </tbody>\n",
       "</table>\n",
       "<p>5 rows × 22 columns</p>\n",
       "</div>"
      ],
      "text/plain": [
       "   ID  Amt Requested  Amt Funded     Length  Monthly Pmt  Pmts to Date State  \\\n",
       "0   1           3300      3300.0  36 months       111.29       1110.10    KY   \n",
       "1   2           4800      4800.0  36 months       157.13       1095.99    CO   \n",
       "2   3           8700      8700.0  36 months       272.15       5432.20    FL   \n",
       "3   4          12300      1325.0  36 months       417.25      13535.28    CA   \n",
       "4   5          11200     11200.0  36 months       343.89       1030.65    NY   \n",
       "\n",
       "    Income  Open LoC  Total LoC        ...          FICO      Home  \\\n",
       "0  1700.00         6         15        ...         670.0  Mortgage   \n",
       "1  1650.00         3         12        ...         733.0      Rent   \n",
       "2  5416.67        11         20        ...         733.0       Own   \n",
       "3  2667.00        15         22        ...         698.0      Rent   \n",
       "4  4333.33        13         26        ...         733.0      Rent   \n",
       "\n",
       "   Utilization    Rate     D/I          Standing Balance Delinquent  Months  \\\n",
       "0        8.70%  13.06%   6.59%  Currently paying     624          1     6.0   \n",
       "1        0.00%  10.99%  23.70%  Currently paying       0          0     NaN   \n",
       "2       31.10%   7.88%  13.38%  Currently paying    8568          0     NaN   \n",
       "3       29.10%  13.47%  22.08%              Paid   10543          0     NaN   \n",
       "4       57.00%   6.62%  11.38%  Currently paying   21379          0     NaN   \n",
       "\n",
       "   Train/Valid/Test  \n",
       "0          Training  \n",
       "1          Training  \n",
       "2              Test  \n",
       "3          Training  \n",
       "4        Validation  \n",
       "\n",
       "[5 rows x 22 columns]"
      ]
     },
     "execution_count": 95,
     "metadata": {},
     "output_type": "execute_result"
    }
   ],
   "source": [
    "# loading the dataset into pandas\n",
    "dataset = pd.read_csv(\"H:/UCD/4 Fourth Semester/Data/Personal Loan.csv\")\n",
    "\n",
    "# Display first five records of the dataset\n",
    "dataset.head()"
   ]
  },
  {
   "cell_type": "code",
   "execution_count": 96,
   "metadata": {},
   "outputs": [
    {
     "name": "stdout",
     "output_type": "stream",
     "text": [
      "ID                      0\n",
      "Amt Requested           0\n",
      "Amt Funded              0\n",
      "Length                  0\n",
      "Monthly Pmt             0\n",
      "Pmts to Date            0\n",
      "State                   0\n",
      "Income                  0\n",
      "Open LoC                0\n",
      "Total LoC               0\n",
      "Employ                840\n",
      "Purpose                 0\n",
      "FICO                    0\n",
      "Home                    0\n",
      "Utilization            42\n",
      "Rate                    0\n",
      "D/I                     0\n",
      "Standing                0\n",
      "Balance                 0\n",
      "Delinquent              0\n",
      "Months              18981\n",
      "Train/Valid/Test        0\n",
      "dtype: int64\n"
     ]
    }
   ],
   "source": [
    "# Exploratory Data Analysis (EDA)\n",
    "# Number of missing values in each column\n",
    "missing_values = dataset.isnull().sum()\n",
    "print(missing_values)"
   ]
  },
  {
   "cell_type": "code",
   "execution_count": 97,
   "metadata": {},
   "outputs": [],
   "source": [
    "# \"na_filter = False\" is to read 'n/a' values as is but not as NAN\n",
    "dataset = pd.read_csv(\"H:/UCD/4 Fourth Semester/Data/Personal Loan.csv\", na_filter = False)\n",
    "\n",
    "# Rename the column \n",
    "dataset = dataset.rename(index=str, columns={\"D/I\":\"DI\"})"
   ]
  },
  {
   "cell_type": "code",
   "execution_count": 98,
   "metadata": {},
   "outputs": [],
   "source": [
    "# convert categorical values into numeric\n",
    "mapping_employ = {\n",
    "   \"Employ\": {\n",
    "        \"10+\": 10,\n",
    "        \"9\": 9,\n",
    "        \"8\": 8,\n",
    "        \"7\": 7,\n",
    "        \"6\": 6,\n",
    "        \"5\": 5,\n",
    "        \"4\": 4,\n",
    "        \"3\": 3,\n",
    "        \"2\": 2,\n",
    "        \"1\": 1,\n",
    "        \"< 1\": 0,\n",
    "        \"n/a\": 0\n",
    "    },\n",
    "    \"Length\": {\n",
    "        \"36 months\": 36,\n",
    "        \"60 months\": 60\n",
    "    }\n",
    "}\n",
    "\n",
    "# Check the data type of each variable in the dataset\n",
    "dataset = dataset.replace(mapping_employ)"
   ]
  },
  {
   "cell_type": "code",
   "execution_count": 99,
   "metadata": {},
   "outputs": [],
   "source": [
    "#FICO_low = dataset.FICO.str.split('-',1).str[0]\n",
    "#FICO_low = pd.DataFrame(FICO_low)\n",
    "#FICO_low.columns = [\"FICO_low\"]\n",
    "\n",
    "#FICO_high = dataset.FICO.str.split('-',2).str[1]\n",
    "#FICO_high = pd.DataFrame(FICO_high)\n",
    "#FICO_high.columns = [\"FICO_high\"]"
   ]
  },
  {
   "cell_type": "code",
   "execution_count": 100,
   "metadata": {},
   "outputs": [],
   "source": [
    "# Amt funded, monthly pmt and pmts to date is not included in the data set as it does not represent\n",
    "# the prediction for future interest rate and \"ID\" which is a row identifier. So dropping the columns\n",
    "dataset = dataset.drop(['ID','Amt Funded', 'Monthly Pmt', 'Pmts to Date', 'Train/Valid/Test'], axis = 1)"
   ]
  },
  {
   "cell_type": "code",
   "execution_count": 101,
   "metadata": {},
   "outputs": [],
   "source": [
    "# Inconsistent data point in the \"state\" variable is corrected from Ill, Tex, WISC to IL,TX,WI.\n",
    "New_State = dataset['State'].replace('Ill','IL').replace('Tex','TX').replace('WISC', 'WI')\n",
    "New_State = pd.DataFrame(New_State)\n",
    "New_State.columns = ['State']\n",
    "\n",
    "# Drop State column from the data set and add new new_state column\n",
    "dataset = dataset.drop(['State'], axis = 1)\n",
    "#dataset = pd.concat([dataset, New_State, FICO_low, FICO_high], axis = 1)\n",
    "dataset = pd.concat([dataset, New_State], axis = 1)\n",
    "\n",
    "#dataset['FICO_high'] = dataset['FICO_high'].replace('[^0-9]<', '', regex=True)"
   ]
  },
  {
   "cell_type": "code",
   "execution_count": 102,
   "metadata": {},
   "outputs": [],
   "source": [
    "#Remove % symbol from the interest rate & revolving utilization \n",
    "dataset.Utilization = dataset.Utilization.str.split('%',1).str[0] \n",
    "dataset.Rate = dataset.Rate.str.split('%',1).str[0]\n",
    "dataset.DI = dataset.DI.str.split('%',1).str[0]"
   ]
  },
  {
   "cell_type": "code",
   "execution_count": 103,
   "metadata": {},
   "outputs": [
    {
     "data": {
      "text/plain": [
       "array([[<matplotlib.axes._subplots.AxesSubplot object at 0x0000029DCD22BBA8>,\n",
       "        <matplotlib.axes._subplots.AxesSubplot object at 0x0000029DD1275780>]], dtype=object)"
      ]
     },
     "execution_count": 103,
     "metadata": {},
     "output_type": "execute_result"
    },
    {
     "data": {
      "image/png": "[encoded data removed]",
      "text/plain": [
       "<matplotlib.figure.Figure at 0x29dcb53d860>"
      ]
     },
     "metadata": {},
     "output_type": "display_data"
    }
   ],
   "source": [
    "dataset[['Amt Requested','Income']].hist(figsize=(10,4))"
   ]
  },
  {
   "cell_type": "code",
   "execution_count": 104,
   "metadata": {},
   "outputs": [
    {
     "data": {
      "text/plain": [
       "Amt Requested      int64\n",
       "Length             int64\n",
       "Income           float64\n",
       "Open LoC           int64\n",
       "Total LoC          int64\n",
       "Employ             int64\n",
       "Purpose           object\n",
       "FICO             float64\n",
       "Home              object\n",
       "Utilization       object\n",
       "Rate              object\n",
       "DI                object\n",
       "Standing          object\n",
       "Balance            int64\n",
       "Delinquent         int64\n",
       "Months            object\n",
       "State             object\n",
       "dtype: object"
      ]
     },
     "execution_count": 104,
     "metadata": {},
     "output_type": "execute_result"
    }
   ],
   "source": [
    "# Check the data type of each variable in the dataset\n",
    "dataset.dtypes"
   ]
  },
  {
   "cell_type": "code",
   "execution_count": 105,
   "metadata": {},
   "outputs": [
    {
     "data": {
      "text/html": [
       "<div>\n",
       "<style scoped>\n",
       "    .dataframe tbody tr th:only-of-type {\n",
       "        vertical-align: middle;\n",
       "    }\n",
       "\n",
       "    .dataframe tbody tr th {\n",
       "        vertical-align: top;\n",
       "    }\n",
       "\n",
       "    .dataframe thead th {\n",
       "        text-align: right;\n",
       "    }\n",
       "</style>\n",
       "<table border=\"1\" class=\"dataframe\">\n",
       "  <thead>\n",
       "    <tr style=\"text-align: right;\">\n",
       "      <th></th>\n",
       "      <th>Amt Requested</th>\n",
       "      <th>Length</th>\n",
       "      <th>Income</th>\n",
       "      <th>Open LoC</th>\n",
       "      <th>Total LoC</th>\n",
       "      <th>Employ</th>\n",
       "      <th>Purpose</th>\n",
       "      <th>FICO</th>\n",
       "      <th>Home</th>\n",
       "      <th>Utilization</th>\n",
       "      <th>Rate</th>\n",
       "      <th>DI</th>\n",
       "      <th>Standing</th>\n",
       "      <th>Balance</th>\n",
       "      <th>Delinquent</th>\n",
       "      <th>Months</th>\n",
       "      <th>State</th>\n",
       "    </tr>\n",
       "  </thead>\n",
       "  <tbody>\n",
       "    <tr>\n",
       "      <th>0</th>\n",
       "      <td>3300</td>\n",
       "      <td>36</td>\n",
       "      <td>1700.00</td>\n",
       "      <td>6</td>\n",
       "      <td>15</td>\n",
       "      <td>6</td>\n",
       "      <td>10</td>\n",
       "      <td>0</td>\n",
       "      <td>1</td>\n",
       "      <td>834</td>\n",
       "      <td>85</td>\n",
       "      <td>2491</td>\n",
       "      <td>0</td>\n",
       "      <td>624</td>\n",
       "      <td>1</td>\n",
       "      <td>60</td>\n",
       "      <td>17</td>\n",
       "    </tr>\n",
       "    <tr>\n",
       "      <th>1</th>\n",
       "      <td>4800</td>\n",
       "      <td>36</td>\n",
       "      <td>1650.00</td>\n",
       "      <td>3</td>\n",
       "      <td>12</td>\n",
       "      <td>0</td>\n",
       "      <td>8</td>\n",
       "      <td>2</td>\n",
       "      <td>4</td>\n",
       "      <td>1</td>\n",
       "      <td>26</td>\n",
       "      <td>1667</td>\n",
       "      <td>0</td>\n",
       "      <td>0</td>\n",
       "      <td>0</td>\n",
       "      <td>0</td>\n",
       "      <td>5</td>\n",
       "    </tr>\n",
       "    <tr>\n",
       "      <th>2</th>\n",
       "      <td>8700</td>\n",
       "      <td>36</td>\n",
       "      <td>5416.67</td>\n",
       "      <td>11</td>\n",
       "      <td>20</td>\n",
       "      <td>3</td>\n",
       "      <td>1</td>\n",
       "      <td>2</td>\n",
       "      <td>3</td>\n",
       "      <td>274</td>\n",
       "      <td>346</td>\n",
       "      <td>535</td>\n",
       "      <td>0</td>\n",
       "      <td>8568</td>\n",
       "      <td>0</td>\n",
       "      <td>0</td>\n",
       "      <td>9</td>\n",
       "    </tr>\n",
       "  </tbody>\n",
       "</table>\n",
       "</div>"
      ],
      "text/plain": [
       "   Amt Requested  Length   Income  Open LoC  Total LoC  Employ  Purpose  FICO  \\\n",
       "0           3300      36  1700.00         6         15       6       10     0   \n",
       "1           4800      36  1650.00         3         12       0        8     2   \n",
       "2           8700      36  5416.67        11         20       3        1     2   \n",
       "\n",
       "   Home  Utilization  Rate    DI  Standing  Balance  Delinquent  Months  State  \n",
       "0     1          834    85  2491         0      624           1      60     17  \n",
       "1     4            1    26  1667         0        0           0       0      5  \n",
       "2     3          274   346   535         0     8568           0       0      9  "
      ]
     },
     "execution_count": 105,
     "metadata": {},
     "output_type": "execute_result"
    }
   ],
   "source": [
    "# Convert variable which are categorical into numerical using label encoder as scikit learn package cannot split\n",
    "# the categorical variables\n",
    "label_encoder = LabelEncoder()\n",
    "\n",
    "dataset.Purpose = label_encoder.fit_transform(dataset.Purpose.values)\n",
    "dataset.FICO = label_encoder.fit_transform(dataset.FICO.values)\n",
    "dataset.Home = label_encoder.fit_transform(dataset.Home.values)\n",
    "dataset.Utilization = label_encoder.fit_transform(dataset.Utilization.values)\n",
    "dataset.Rate = label_encoder.fit_transform(dataset.Rate.values)\n",
    "dataset.DI = label_encoder.fit_transform(dataset.DI.values)\n",
    "dataset.Standing = label_encoder.fit_transform(dataset.Standing.values)\n",
    "dataset.Months = label_encoder.fit_transform(dataset.Months.values)\n",
    "dataset.State = label_encoder.fit_transform(dataset.State.values)\n",
    "\n",
    "dataset.head(3)"
   ]
  },
  {
   "cell_type": "code",
   "execution_count": 106,
   "metadata": {},
   "outputs": [
    {
     "data": {
      "text/plain": [
       "\"\\ntrain = dataset[dataset['Train/Valid/Test'] == 'Training']\\nprint(len(train))\\nvalid = dataset[dataset['Train/Valid/Test'] == 'Validation']\\nprint(len(valid))\\ntest = dataset[dataset['Train/Valid/Test'] == 'Test']\\nprint(len(test))\\n\""
      ]
     },
     "execution_count": 106,
     "metadata": {},
     "output_type": "execute_result"
    }
   ],
   "source": [
    "'''\n",
    "train = dataset[dataset['Train/Valid/Test'] == 'Training']\n",
    "print(len(train))\n",
    "valid = dataset[dataset['Train/Valid/Test'] == 'Validation']\n",
    "print(len(valid))\n",
    "test = dataset[dataset['Train/Valid/Test'] == 'Test']\n",
    "print(len(test))\n",
    "'''"
   ]
  },
  {
   "cell_type": "code",
   "execution_count": 107,
   "metadata": {},
   "outputs": [],
   "source": [
    "# Ssplit the data into response and predictor variables\n",
    "y = dataset.Rate.values\n",
    "del dataset['Rate'] \n",
    "X = dataset.values\n",
    "\n",
    "# Split the data into train and test data\n",
    "X_train, X_test, y_train, y_test = train_test_split(X,y)"
   ]
  },
  {
   "cell_type": "code",
   "execution_count": 108,
   "metadata": {},
   "outputs": [],
   "source": [
    "# Fit and Predict the model\n",
    "gbrt = GradientBoostingRegressor(n_estimators=100) \n",
    "gbrt.fit(X_train, y_train) \n",
    "y_pred=gbrt.predict(X_test)"
   ]
  },
  {
   "cell_type": "code",
   "execution_count": 109,
   "metadata": {},
   "outputs": [
    {
     "name": "stdout",
     "output_type": "stream",
     "text": [
      "R-squared for Train: 0.42\n",
      "R-squared for Test: 0.42\n"
     ]
    }
   ],
   "source": [
    "# R-squared value for train/test\n",
    "print(\"R-squared for Train: %.2f\" %gbrt.score(X_train, y_train))\n",
    "print(\"R-squared for Test: %.2f\" %gbrt.score(X_test, y_test))"
   ]
  },
  {
   "cell_type": "code",
   "execution_count": null,
   "metadata": {},
   "outputs": [],
   "source": [
    "# Optimize the model by uning the parameter\n",
    "param_grid={'n_estimators':[100],#,500,1000], \n",
    "            'learning_rate': [0.1,0.05,0.02],# 0.01], \n",
    "            'max_depth':[4,6], \n",
    "            'min_samples_leaf':[3,5,9,17], \n",
    "            'max_features':[1.0,0.3,0.1] } \n",
    "n_jobs=4\n",
    "\n",
    "classifier = GridSearchCV(estimator=GradientBoostingRegressor(), cv=10, param_grid=param_grid, n_jobs=n_jobs)\n",
    "\n",
    "classifier.fit(X_train, y_train)\n",
    "print(classifier.best_estimator_)"
   ]
  },
  {
   "cell_type": "code",
   "execution_count": 112,
   "metadata": {},
   "outputs": [
    {
     "name": "stdout",
     "output_type": "stream",
     "text": [
      "n_estimators: 100\n",
      "n_estimators: 6\n",
      "n_estimators: 0\n",
      "n_estimators: 17\n",
      "n_estimators: 1\n"
     ]
    }
   ],
   "source": [
    "# Best parameters for the model\n",
    "best_est=classifier.best_estimator_\n",
    "print(\"n_estimators: %d\"%best_est.n_estimators)\n",
    "print(\"n_estimators: %d\"%best_est.max_depth)\n",
    "print(\"n_estimators: %d\"%best_est.learning_rate)\n",
    "print(\"n_estimators: %d\"%best_est.min_samples_leaf)\n",
    "print(\"n_estimators: %d\"%best_est.max_features)"
   ]
  },
  {
   "cell_type": "code",
   "execution_count": 119,
   "metadata": {},
   "outputs": [
    {
     "name": "stdout",
     "output_type": "stream",
     "text": [
      "Train R-squared: 0.51\n",
      "R-squared for Test: 0.53\n"
     ]
    }
   ],
   "source": [
    "# Training and Validation R-Squared after optimization\n",
    "print(\"Train R-squared: %.2f\" %best_est.score(X_train,y_train))\n",
    "print(\"R-squared for Test: %.2f\" %best_est.score(X_test, y_test))"
   ]
  },
  {
   "cell_type": "code",
   "execution_count": 120,
   "metadata": {},
   "outputs": [
    {
     "name": "stdout",
     "output_type": "stream",
     "text": [
      "Automatically created module for IPython interactive environment\n"
     ]
    }
   ],
   "source": [
    "# Plotting the learning curve using the in built method in scikit-learn package\n",
    "print(__doc__)\n",
    "\n",
    "import numpy as np\n",
    "import matplotlib.pyplot as plt\n",
    "from sklearn.naive_bayes import GaussianNB\n",
    "from sklearn.svm import SVC\n",
    "from sklearn.datasets import load_digits\n",
    "from sklearn.model_selection import learning_curve\n",
    "from sklearn.model_selection import ShuffleSplit\n",
    "\n",
    "def plot_learning_curve(estimator, title, X, y, ylim=None, cv=None,\n",
    "                        n_jobs=1, train_sizes=np.linspace(.1, 1.0, 5)):\n",
    "    \"\"\"\n",
    "    Generate a simple plot of the test and training learning curve.\n",
    "\n",
    "    Parameters\n",
    "    ----------\n",
    "    estimator : object type that implements the \"fit\" and \"predict\" methods\n",
    "        An object of that type which is cloned for each validation.\n",
    "\n",
    "    title : string\n",
    "        Title for the chart.\n",
    "\n",
    "    X : array-like, shape (n_samples, n_features)\n",
    "        Training vector, where n_samples is the number of samples and\n",
    "        n_features is the number of features.\n",
    "\n",
    "    y : array-like, shape (n_samples) or (n_samples, n_features), optional\n",
    "        Target relative to X for classification or regression;\n",
    "        None for unsupervised learning.\n",
    "\n",
    "    ylim : tuple, shape (ymin, ymax), optional\n",
    "        Defines minimum and maximum yvalues plotted.\n",
    "\n",
    "    cv : int, cross-validation generator or an iterable, optional\n",
    "        Determines the cross-validation splitting strategy.\n",
    "        Possible inputs for cv are:\n",
    "          - None, to use the default 3-fold cross-validation,\n",
    "          - integer, to specify the number of folds.\n",
    "          - An object to be used as a cross-validation generator.\n",
    "          - An iterable yielding train/test splits.\n",
    "\n",
    "        For integer/None inputs, if ``y`` is binary or multiclass,\n",
    "        :class:`StratifiedKFold` used. If the estimator is not a classifier\n",
    "        or if ``y`` is neither binary nor multiclass, :class:`KFold` is used.\n",
    "\n",
    "        Refer :ref:`User Guide <cross_validation>` for the various\n",
    "        cross-validators that can be used here.\n",
    "\n",
    "    n_jobs : integer, optional\n",
    "        Number of jobs to run in parallel (default 1).\n",
    "    \"\"\"\n",
    "    plt.figure()\n",
    "    plt.title(title)\n",
    "    if ylim is not None:\n",
    "        plt.ylim(*ylim)\n",
    "    plt.xlabel(\"Training examples\")\n",
    "    plt.ylabel(\"Score\")\n",
    "    train_sizes, train_scores, test_scores = learning_curve(\n",
    "        estimator, X, y, cv=cv, n_jobs=n_jobs, train_sizes=train_sizes)\n",
    "    train_scores_mean = np.mean(train_scores, axis=1)\n",
    "    train_scores_std = np.std(train_scores, axis=1)\n",
    "    test_scores_mean = np.mean(test_scores, axis=1)\n",
    "    test_scores_std = np.std(test_scores, axis=1)\n",
    "    plt.grid()\n",
    "\n",
    "    plt.fill_between(train_sizes, train_scores_mean - train_scores_std,\n",
    "                     train_scores_mean + train_scores_std, alpha=0.1,\n",
    "                     color=\"r\")\n",
    "    plt.fill_between(train_sizes, test_scores_mean - test_scores_std,\n",
    "                     test_scores_mean + test_scores_std, alpha=0.1, color=\"g\")\n",
    "    plt.plot(train_sizes, train_scores_mean, 'o-', color=\"r\",\n",
    "             label=\"Training score\")\n",
    "    plt.plot(train_sizes, test_scores_mean, 'o-', color=\"g\",\n",
    "             label=\"Cross-validation score\")\n",
    "\n",
    "    plt.legend(loc=\"best\")\n",
    "    return plt"
   ]
  },
  {
   "cell_type": "code",
   "execution_count": 121,
   "metadata": {},
   "outputs": [
    {
     "data": {
      "image/png": "[encoded data removed]",
      "text/plain": [
       "<matplotlib.figure.Figure at 0x29dcd22b940>"
      ]
     },
     "metadata": {},
     "output_type": "display_data"
    }
   ],
   "source": [
    "# From the learning curve, we can see that training R-Squared is maximum when the training examples are less and it decreases \n",
    "# when the examples increase. On the contrary Cross-validation R-squared increases when the training examples increases.\n",
    "title = \"Learning Curves (Gradient Boosted Regression Trees)\"\n",
    "estimator = GradientBoostingRegressor(n_estimators=best_est.n_estimators, max_depth=best_est.max_depth, learning_rate=best_est.learning_rate, min_samples_leaf=best_est.min_samples_leaf, max_features=best_est.max_features) \n",
    "plot_learning_curve(estimator, title, X_train, y_train, cv=10, n_jobs=n_jobs)\n",
    "plt.show()\n"
   ]
  },
  {
   "cell_type": "code",
   "execution_count": null,
   "metadata": {},
   "outputs": [],
   "source": []
  }
 ],
 "metadata": {
  "kernelspec": {
   "display_name": "Python 3",
   "language": "python",
   "name": "python3"
  },
  "language_info": {
   "codemirror_mode": {
    "name": "ipython",
    "version": 3
   },
   "file_extension": ".py",
   "mimetype": "text/x-python",
   "name": "python",
   "nbconvert_exporter": "python",
   "pygments_lexer": "ipython3",
   "version": "3.6.3"
  }
 },
 "nbformat": 4,
 "nbformat_minor": 2
}
